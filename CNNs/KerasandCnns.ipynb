{
 "cells": [
  {
   "cell_type": "code",
   "execution_count": 3,
   "id": "c1350d1f",
   "metadata": {},
   "outputs": [
    {
     "name": "stdout",
     "output_type": "stream",
     "text": [
      "WARNING:tensorflow:From /Users/seanhalvey/miniconda3/lib/python3.7/site-packages/tensorflow_core/python/compat/v2_compat.py:68: disable_resource_variables (from tensorflow.python.ops.variable_scope) is deprecated and will be removed in a future version.\n",
      "Instructions for updating:\n",
      "non-resource variables are not supported in the long term\n"
     ]
    }
   ],
   "source": [
    "# Simple CNN for the MNIST Dataset\n",
    "\n",
    "import warnings\n",
    "warnings.filterwarnings(\"ignore\", category=DeprecationWarning) \n",
    "\n",
    "from keras.datasets import mnist\n",
    "from keras.models import Sequential\n",
    "from keras.layers import Dense\n",
    "from keras.layers import Dropout\n",
    "from keras.layers import Flatten\n",
    "from keras.layers.convolutional import Conv2D\n",
    "from keras.layers.convolutional import MaxPooling2D\n",
    "from keras.utils import np_utils\n",
    "import tensorflow.compat.v1 as tf\n",
    "tf.disable_v2_behavior()"
   ]
  },
  {
   "cell_type": "code",
   "execution_count": 4,
   "id": "a5e7b1a1",
   "metadata": {},
   "outputs": [
    {
     "name": "stdout",
     "output_type": "stream",
     "text": [
      "Train on 60000 samples, validate on 10000 samples\n",
      "Epoch 1/10\n",
      "60000/60000 [==============================] - 18s 298us/step - loss: 0.2853 - acc: 0.9199 - val_loss: 0.0913 - val_acc: 0.9717\n",
      "Epoch 2/10\n",
      "60000/60000 [==============================] - 15s 256us/step - loss: 0.0872 - acc: 0.9735 - val_loss: 0.0593 - val_acc: 0.9801\n",
      "Epoch 3/10\n",
      "60000/60000 [==============================] - 16s 259us/step - loss: 0.0634 - acc: 0.9805 - val_loss: 0.0445 - val_acc: 0.9845\n",
      "Epoch 4/10\n",
      "60000/60000 [==============================] - 16s 262us/step - loss: 0.0509 - acc: 0.9845 - val_loss: 0.0356 - val_acc: 0.9874\n",
      "Epoch 5/10\n",
      "60000/60000 [==============================] - 16s 261us/step - loss: 0.0432 - acc: 0.9866 - val_loss: 0.0343 - val_acc: 0.9869\n",
      "Epoch 6/10\n",
      "60000/60000 [==============================] - 16s 266us/step - loss: 0.0365 - acc: 0.9884 - val_loss: 0.0352 - val_acc: 0.9879\n",
      "Epoch 7/10\n",
      "60000/60000 [==============================] - 16s 273us/step - loss: 0.0320 - acc: 0.9899 - val_loss: 0.0345 - val_acc: 0.9878\n",
      "Epoch 8/10\n",
      "60000/60000 [==============================] - 16s 274us/step - loss: 0.0275 - acc: 0.9913 - val_loss: 0.0316 - val_acc: 0.9897\n",
      "Epoch 9/10\n",
      "60000/60000 [==============================] - 17s 275us/step - loss: 0.0252 - acc: 0.9918 - val_loss: 0.0295 - val_acc: 0.9909\n",
      "Epoch 10/10\n",
      "60000/60000 [==============================] - 16s 271us/step - loss: 0.0224 - acc: 0.9929 - val_loss: 0.0316 - val_acc: 0.9897\n",
      "CNN Error: 1.03%\n"
     ]
    }
   ],
   "source": [
    "# load data\n",
    "(X_train, y_train), (X_test, y_test) = mnist.load_data()\n",
    "# reshape to be [samples][width][height][channels]\n",
    "X_train = X_train.reshape((X_train.shape[0], 28, 28, 1)).astype('float32')\n",
    "X_test = X_test.reshape((X_test.shape[0], 28, 28, 1)).astype('float32')\n",
    "# normalize inputs from 0-255 to 0-1\n",
    "X_train = X_train / 255\n",
    "X_test = X_test / 255\n",
    "# one hot encode outputs\n",
    "y_train = np_utils.to_categorical(y_train)\n",
    "y_test = np_utils.to_categorical(y_test)\n",
    "num_classes = y_test.shape[1]\n",
    "# define a simple CNN model\n",
    "def baseline_model():\n",
    "    # create model\n",
    "    model = Sequential()\n",
    "    model.add(Conv2D(32, (5, 5), input_shape=(28, 28, 1), activation='relu'))\n",
    "    model.add(MaxPooling2D(pool_size=(3, 3)))\n",
    "    model.add(Dropout(0.2))\n",
    "    model.add(Flatten())\n",
    "    model.add(Dense(128, activation='relu'))\n",
    "    model.add(Dense(num_classes, activation='softmax'))\n",
    "    # Compile model\n",
    "    model.compile(loss='categorical_crossentropy', optimizer='adam', metrics=['accuracy'])\n",
    "    return model\n",
    "# build the model\n",
    "model = baseline_model()\n",
    "# Fit the model\n",
    "model.fit(X_train, y_train, validation_data=(X_test, y_test), epochs=10, batch_size=200)\n",
    "# Final evaluation of the model\n",
    "scores = model.evaluate(X_test, y_test, verbose=0)\n",
    "print(\"CNN Error: %.2f%%\" % (100-scores[1]*100))"
   ]
  },
  {
   "cell_type": "code",
   "execution_count": 5,
   "id": "0e51b2d5",
   "metadata": {},
   "outputs": [
    {
     "name": "stdout",
     "output_type": "stream",
     "text": [
      "9\n",
      "[0.000 0.000 0.000 0.000 0.000 0.000 0.000 0.000 0.000 1.000]\n"
     ]
    },
    {
     "data": {
      "image/png": "[encoded data removed]",
      "text/plain": [
       "<Figure size 432x288 with 1 Axes>"
      ]
     },
     "metadata": {
      "needs_background": "light"
     },
     "output_type": "display_data"
    },
    {
     "name": "stdout",
     "output_type": "stream",
     "text": [
      "[0.000 0.000 0.000 0.000 0.001 0.000 0.000 0.000 0.000 99.999]\n"
     ]
    },
    {
     "data": {
      "image/png": "[encoded data removed]",
      "text/plain": [
       "<Figure size 432x288 with 1 Axes>"
      ]
     },
     "metadata": {
      "needs_background": "light"
     },
     "output_type": "display_data"
    }
   ],
   "source": [
    "import matplotlib.pyplot as plt\n",
    "import numpy as np\n",
    "np.set_printoptions(formatter={'float_kind':'{:.3f}'.format})\n",
    "image = 12\n",
    "ynew = model.predict_classes(X_test[image:image+1])\n",
    "yhat = model.predict(X_test[image:image+1])\n",
    "print(ynew[0])\n",
    "print((y_test[image]))\n",
    "plt.imshow(X_test[image], cmap=plt.get_cmap('gray'))\n",
    "plt.show();\n",
    "\n",
    "print(yhat[0]*100)\n",
    "plt.bar(x=list(np.arange(0,10,1)),height=list(yhat[0]*100))\n",
    "plt.xticks(list(np.arange(0,10,1)))\n",
    "plt.show();"
   ]
  }
 ],
 "metadata": {
  "kernelspec": {
   "display_name": "Python 3",
   "language": "python",
   "name": "python3"
  },
  "language_info": {
   "codemirror_mode": {
    "name": "ipython",
    "version": 3
   },
   "file_extension": ".py",
   "mimetype": "text/x-python",
   "name": "python",
   "nbconvert_exporter": "python",
   "pygments_lexer": "ipython3",
   "version": "3.7.10"
  }
 },
 "nbformat": 4,
 "nbformat_minor": 5
}
